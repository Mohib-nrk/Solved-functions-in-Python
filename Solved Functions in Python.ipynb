{
 "cells": [
  {
   "cell_type": "markdown",
   "id": "3cddad5c",
   "metadata": {},
   "source": [
    "# Functions in Python: A Primer for Business Data Analysts"
   ]
  },
  {
   "cell_type": "markdown",
   "id": "9be8489d",
   "metadata": {},
   "source": [
    "## Introduction\n",
    "### Functions are fundamental building blocks in Python programming. They allow you to encapsulate a specific task or calculation into a reusable block of code. This promotes modularity, reusability, and readability in your scripts.\n",
    "\n",
    "## Defining a Function\n",
    "### To define a function in Python, you use the def keyword followed by the function name and parentheses. Inside the parentheses, you can define parameters, which are variables that accept input values. The function's body is indented and contains the code that will be executed when the function is called."
   ]
  },
  {
   "cell_type": "code",
   "execution_count": null,
   "id": "4040b2ae",
   "metadata": {},
   "outputs": [],
   "source": [
    "def greet(name):\n",
    "  print(\"Hello, \" + name + \"!\")"
   ]
  },
  {
   "cell_type": "markdown",
   "id": "a8a04000",
   "metadata": {},
   "source": [
    "## Calling a Function\n",
    "### To execute a function, you simply call it by its name, followed by any necessary arguments:"
   ]
  },
  {
   "cell_type": "code",
   "execution_count": null,
   "id": "2d499e44",
   "metadata": {},
   "outputs": [],
   "source": [
    "greet(\"Imran\")  # Output: Hello, Imran!"
   ]
  },
  {
   "cell_type": "code",
   "execution_count": null,
   "id": "1219cd90",
   "metadata": {},
   "outputs": [],
   "source": [
    "greet(\"Imran\")  # Output: Hello, Imran!"
   ]
  },
  {
   "cell_type": "markdown",
   "id": "6e1eb5dc",
   "metadata": {},
   "source": [
    "## Function Parameters and Arguments\n",
    "### Parameters: These are the variables defined within the function's parentheses. They act as placeholders for values that will be passed to the function when it's called.\n",
    "### Arguments: These are the actual values passed to the function when it's called. They are assigned to the corresponding parameters."
   ]
  },
  {
   "cell_type": "code",
   "execution_count": null,
   "id": "03828542",
   "metadata": {},
   "outputs": [],
   "source": [
    "def calculate_area(length, width):\n",
    "  area = length * width\n",
    "  return area\n",
    "\n",
    "result = calculate_area(5, 3)\n",
    "print(result)  # Output: 15"
   ]
  },
  {
   "cell_type": "markdown",
   "id": "5968901e",
   "metadata": {},
   "source": [
    "## Return Statement\n",
    "### The return statement is used to specify the value that a function should return. Once the return statement is executed, the function terminates and the specified value is returned to the caller."
   ]
  },
  {
   "cell_type": "markdown",
   "id": "29da4f9d",
   "metadata": {},
   "source": [
    "## Practice Exercises\n",
    "\n",
    "### Simple Function:\n",
    "#### Create a function named greet_with_time that takes a name as input and prints a greeting message along with the current time.\n",
    "### Function with Multiple Parameters:\n",
    "#### Write a function called calculate_average that takes three numbers as input and returns their average.\n",
    "### Default Argument:\n",
    "#### Define a function calculate_discount that takes a price and a discount percentage as input. Set a default discount percentage of 10%.\n",
    "### Keyword Arguments:\n",
    "#### Create a function print_info that takes a name, age, and city as keyword arguments.\n",
    "### Variable-Length Arguments:\n",
    "#### Write a function find_max that can take any number of arguments and returns the maximum value.\n",
    "### Recursive Function:\n",
    "#### Implement a recursive function to calculate the factorial of a number.\n",
    "### Function as an Argument:\n",
    "#### Define a function apply_function that takes a function and a list of numbers as input. Apply the function to each number in the list and return a new list with the results.\n",
    "### Lambda Functions:\n",
    "#### Create a lambda function to square a number.\n",
    "### Higher-Order Functions:\n",
    "#### Write a function apply_operation that takes a function and a list of numbers. Apply the function to each number and return a new list.\n",
    "### Function Decorators:\n",
    "#### Implement a decorator to measure the execution time of a function."
   ]
  },
  {
   "cell_type": "code",
   "execution_count": 8,
   "id": "49ebbbe0",
   "metadata": {},
   "outputs": [
    {
     "name": "stdout",
     "output_type": "stream",
     "text": [
      "Hello,Gambit! The current time is 2024-11-30 11:56:18.156919.\n"
     ]
    }
   ],
   "source": [
    "# Question 1 \n",
    "#Create a function named greet_with_time that takes a name as input and prints a greeting message along with the current time.\n",
    "import datetime\n",
    "def greet_with_time(name):\n",
    "    current_time=datetime.datetime.now()\n",
    "    print(f\"Hello,{name}! The current time is {current_time}.\")\n",
    "    \n",
    "greet_with_time(\"Gambit\")"
   ]
  },
  {
   "cell_type": "code",
   "execution_count": 9,
   "id": "3f96705a-0125-42f8-bb01-ca73976975eb",
   "metadata": {},
   "outputs": [
    {
     "name": "stdout",
     "output_type": "stream",
     "text": [
      "756.3333333333334\n"
     ]
    }
   ],
   "source": [
    "# Question 2\n",
    "# Write a function called calculate_average that takes three numbers as input and returns their average.\n",
    "def calculate_average(x,y,z):\n",
    "     average=(x+y+z)/3\n",
    "     print(average)\n",
    "calculate_average(755,756,758)"
   ]
  },
  {
   "cell_type": "code",
   "execution_count": 13,
   "id": "9bfe8a2f-4ebf-452f-a803-3fd5c33d6d94",
   "metadata": {},
   "outputs": [
    {
     "name": "stdout",
     "output_type": "stream",
     "text": [
      "You get discountof RS: 75.5\n"
     ]
    }
   ],
   "source": [
    "# Question 3\n",
    "# Define a function calculate_discount that takes a price and a discount percentage as input. Set a default discount percentage of 10%.\n",
    "def calculate_discount(price):\n",
    "    d_p=price*0.10\n",
    "    print(\"You get discountof RS:\",d_p)\n",
    "calculate_discount(755)"
   ]
  },
  {
   "cell_type": "code",
   "execution_count": 18,
   "id": "85669af2-f27f-4d83-ad1e-efe7a68130e4",
   "metadata": {},
   "outputs": [
    {
     "name": "stdout",
     "output_type": "stream",
     "text": [
      "Name: Aun\n",
      "Age: 19\n",
      "City: Lahore\n"
     ]
    }
   ],
   "source": [
    "# Question 4\n",
    "# Create a function print_info that takes a name, age, and city as keyword arguments.\n",
    "def print_info(name, age, city):\n",
    "    print(f\"Name: {name}\")\n",
    "    print(f\"Age: {age}\")\n",
    "    print(f\"City: {city}\")\n",
    "    \n",
    "print_info(\"Aun\", 19, \"Lahore\")"
   ]
  },
  {
   "cell_type": "code",
   "execution_count": 19,
   "id": "f2965a0a-5208-43ff-981f-1780fc8cffd4",
   "metadata": {},
   "outputs": [
    {
     "name": "stdout",
     "output_type": "stream",
     "text": [
      "max=758\n"
     ]
    }
   ],
   "source": [
    "# Question 5\n",
    "# Write a function find_max that can take any number of arguments and returns the maximum value.\n",
    "def find_max(a,b,c):\n",
    "    if a>b and a>c:\n",
    "        print(f\"max={a}\")\n",
    "    if b>a and b>c:\n",
    "        print(f\"max={b}\")\n",
    "    if c>b and c>a:\n",
    "        print(f\"max={c}\")\n",
    "find_max(755,756,758)"
   ]
  },
  {
   "cell_type": "code",
   "execution_count": 36,
   "id": "c044c2fc-1b3e-4914-bf37-2428885d5190",
   "metadata": {},
   "outputs": [
    {
     "name": "stdout",
     "output_type": "stream",
     "text": [
      "The factorial is 24\n"
     ]
    }
   ],
   "source": [
    "# Question 6\n",
    "# Implement a recursive function to calculate the factorial of a number.\n",
    "def factorial(number):\n",
    "    f_r = 1\n",
    "    while number > 1:\n",
    "        f_r *= number\n",
    "        number -= 1  \n",
    "    print(f\"The factorial is {f_r}\")\n",
    "factorial(4)"
   ]
  },
  {
   "cell_type": "code",
   "execution_count": 38,
   "id": "625f726c-00c8-4cfe-97ff-e91f52a5154c",
   "metadata": {},
   "outputs": [
    {
     "name": "stdout",
     "output_type": "stream",
     "text": [
      "[1, 4, 9, 16, 25]\n"
     ]
    }
   ],
   "source": [
    "# Question 7\n",
    "# Define a function apply_function that takes a function and a list of numbers as input. Apply the function to each number in the list and return a new list with the results.\n",
    "def apply_function(function, numbers):\n",
    "    return [function(number) for number in numbers]\n",
    "def square(x):\n",
    "    return x * x\n",
    "numbers = [1, 2, 3, 4, 5]\n",
    "result = apply_function(square, numbers)\n",
    "print(result)"
   ]
  },
  {
   "cell_type": "code",
   "execution_count": null,
   "id": "d7176658-d834-462a-9c71-dea17480bfe2",
   "metadata": {},
   "outputs": [],
   "source": []
  }
 ],
 "metadata": {
  "kernelspec": {
   "display_name": "Python 3 (ipykernel)",
   "language": "python",
   "name": "python3"
  },
  "language_info": {
   "codemirror_mode": {
    "name": "ipython",
    "version": 3
   },
   "file_extension": ".py",
   "mimetype": "text/x-python",
   "name": "python",
   "nbconvert_exporter": "python",
   "pygments_lexer": "ipython3",
   "version": "3.12.4"
  }
 },
 "nbformat": 4,
 "nbformat_minor": 5
}
